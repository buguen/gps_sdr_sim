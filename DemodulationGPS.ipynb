{
 "cells": [
  {
   "cell_type": "code",
   "execution_count": 1,
   "id": "8402d67f",
   "metadata": {},
   "outputs": [],
   "source": [
    "import pandas as pd \n",
    "import numpy as np \n",
    "import matplotlib.pyplot as plt\n",
    "from processinggps import *\n",
    "import numpy as np\n",
    "from scipy.signal import fftconvolve"
   ]
  },
  {
   "cell_type": "code",
   "execution_count": null,
   "id": "daa60f3a",
   "metadata": {},
   "outputs": [],
   "source": []
  },
  {
   "cell_type": "markdown",
   "id": "c1435b78",
   "metadata": {},
   "source": [
    "# Lecture données"
   ]
  },
  {
   "cell_type": "code",
   "execution_count": 2,
   "id": "01df95a9",
   "metadata": {},
   "outputs": [],
   "source": [
    "filename='gpssim.bin'\n",
    "data = np.fromfile(filename,dtype=np.byte)\n",
    "# Mise en forme complexe des échantillons I et Q\n",
    "re=data[0::2]\n",
    "im = data[1::2]\n",
    "r = re+1j*im"
   ]
  },
  {
   "cell_type": "code",
   "execution_count": 3,
   "id": "bdaff7ec",
   "metadata": {},
   "outputs": [],
   "source": [
    "# Doppler\n",
    "Nfd = 100\n",
    "fdmax = 5000\n",
    "fs = 2600000\n",
    "fd = np.linspace(-1,1,Nfd)* (fdmax/fs)"
   ]
  },
  {
   "cell_type": "code",
   "execution_count": 5,
   "id": "977ca2f8",
   "metadata": {},
   "outputs": [],
   "source": [
    "def correlate(rc,csat,fd):\n",
    "    \"\"\"\n",
    "    rc : complex signal IQ samples\n",
    "    csat : code pseudo aléatoire échantillonné à fs\n",
    "    \"\"\"\n",
    "    t = np.arange(0,len(rc) )\n",
    "    rr = rc[None,:]*np.exp(-1j*2*np.pi*t*fd[:,None])\n",
    "    RR = np.fft.fft(rr)\n",
    "    CSAT = np.fft.fft(csat)\n",
    "    U = np.fft.ifft(RR* np.conj(CSAT[None,:]))\n",
    "    return(U)"
   ]
  },
  {
   "cell_type": "code",
   "execution_count": 6,
   "id": "6506ee00",
   "metadata": {},
   "outputs": [],
   "source": [
    "def codesat(isat,repeatno=200,fs=2600000,fsca=1.023e6):\n",
    "    \"\"\" Construit un motif du code PRN du satellite à la bonne fréquence d'ech\n",
    "    \n",
    "    Parameters\n",
    "    ----------\n",
    "    isat : satellite number \n",
    "    repeatno : int number of code repetition \n",
    "    fs   : sampling frequency\n",
    "    fsca : frequence code C/A\n",
    "    Returns\n",
    "    -------\n",
    "    csat : repetion of C/A code (sampled @ fs)\n",
    "    \n",
    "    \"\"\"\n",
    "    sat = np.array( PRN(isat) ) # code PRN du satellite\n",
    "    satind  =  np.floor( np.linspace(0, len(sat)-1, num=int((fs/fsca)* len(sat)) )     ).astype(int)\n",
    "    satrep  = sat[satind]\n",
    "    csat = np.tile(satrep,repeatno)\n",
    "    return(csat)"
   ]
  },
  {
   "cell_type": "code",
   "execution_count": 7,
   "id": "97045d5b",
   "metadata": {},
   "outputs": [],
   "source": [
    "# Fonction pour identifier les satellites présents dans le signal\n",
    "def identify_satellites(signal,fd,repeatno=20):\n",
    "    # Corrélation croisée entre le signal et les codes C/A des satellites connus\n",
    "    correlations = []\n",
    "    largmax = []\n",
    "    for sat_num in range(1,32):\n",
    "        csat = codesat(sat_num,repeatno=repeatno)\n",
    "        rc = signal[0:len(csat)]\n",
    "        U = correlate(rc,csat,fd)\n",
    "        corrmax = np.max(np.abs(U))\n",
    "        a = np.where(np.abs(U)==corrmax)\n",
    "        correlations.append(corrmax)\n",
    "        largmax.append(a)\n",
    "        #correlation = np.abs(fftconvolve(signal, code[::-1], mode='same'))\n",
    "    # Identifier les pics de corrélation pour déterminer les satellites présents\n",
    "    threshold = 0.5 * np.max(correlations)\n",
    "    detected_satellites = [i+1 for i, corr in enumerate(correlations) if corr > threshold]\n",
    "    largmax = [ largmax[i-1] for i in detected_satellites ]\n",
    "    largmax = [ (a[0][0],a[1][0]) for a in largmax ]\n",
    "    return detected_satellites,correlations,largmax"
   ]
  },
  {
   "cell_type": "code",
   "execution_count": 8,
   "id": "00548687",
   "metadata": {},
   "outputs": [],
   "source": [
    "detected_satellites,correlations,larg = identify_satellites(r,fd)"
   ]
  },
  {
   "cell_type": "code",
   "execution_count": 9,
   "id": "ed9beefe",
   "metadata": {},
   "outputs": [
    {
     "data": {
      "text/plain": [
       "Text(0, 0.5, 'Correlation value')"
      ]
     },
     "execution_count": 9,
     "metadata": {},
     "output_type": "execute_result"
    },
    {
     "data": {
      "image/png": "[encoded data removed]",
      "text/plain": [
       "<Figure size 432x288 with 1 Axes>"
      ]
     },
     "metadata": {
      "needs_background": "light"
     },
     "output_type": "display_data"
    }
   ],
   "source": [
    "plt.bar(np.arange(1,32),correlations)\n",
    "plt.xlabel('Sat number')\n",
    "plt.ylabel('Correlation value')"
   ]
  },
  {
   "cell_type": "code",
   "execution_count": 37,
   "id": "e1fe474a",
   "metadata": {},
   "outputs": [],
   "source": [
    "def fine_Doppler(signal,detected_satellites,fd,larg,Nfd=100,kstart=0,repeatno=20):\n",
    "    correlations = []\n",
    "    lfineDoppler =[] \n",
    "    for k,sat_num in enumerate(detected_satellites):\n",
    "        csat = codesat(sat_num,repeatno=repeatno)\n",
    "        idxfdsat = larg[k][0]\n",
    "        fdsat  = np.linspace(fd[idxfdsat-1],fd[idxfdsat+1],Nfd)\n",
    "        rc = signal[kstart:len(csat)+kstart]\n",
    "        U = correlate(rc,csat,fdsat)\n",
    "        corrmax = np.max(np.abs(U))\n",
    "        a = np.where(np.abs(U)==corrmax)\n",
    "        correlations.append(corrmax)\n",
    "        lfineDoppler.append(fdsat[a[0][0]])\n",
    "    return lfineDoppler,correlations"
   ]
  },
  {
   "cell_type": "code",
   "execution_count": 51,
   "id": "49056a9b",
   "metadata": {},
   "outputs": [
    {
     "data": {
      "text/plain": [
       "array([        0,  86632000, 173264000, 259896000, 346528000, 433160000,\n",
       "       519792000, 606424000, 693056000, 779688000])"
      ]
     },
     "execution_count": 51,
     "metadata": {},
     "output_type": "execute_result"
    }
   ],
   "source": []
  },
  {
   "cell_type": "code",
   "execution_count": 65,
   "id": "3e52a381",
   "metadata": {},
   "outputs": [
    {
     "name": "stdout",
     "output_type": "stream",
     "text": [
      "0\n",
      "1\n",
      "2\n",
      "3\n",
      "4\n",
      "5\n",
      "6\n",
      "7\n",
      "8\n",
      "9\n",
      "10\n",
      "11\n",
      "12\n",
      "13\n",
      "14\n",
      "15\n",
      "16\n",
      "17\n",
      "18\n",
      "19\n",
      "20\n",
      "21\n",
      "22\n",
      "23\n",
      "24\n",
      "25\n",
      "26\n",
      "27\n",
      "28\n",
      "29\n"
     ]
    }
   ],
   "source": [
    "\n",
    "for k,kstart in enumerate(np.linspace(0,len(r)-len(csat),30).astype(int)):\n",
    "    print(k)\n",
    "    lfineDoppler,fdoppcorr = fine_Doppler(r,detected_satellites,fd,larg,kstart=kstart)\n",
    "    try: \n",
    "        tfDoppler = np.hstack((tfDoppler,np.array(lfineDoppler)[None,:]))\n",
    "    except:\n",
    "        tfDoppler = np.array(lfineDoppler)[None,:]"
   ]
  },
  {
   "cell_type": "code",
   "execution_count": 70,
   "id": "98212e48",
   "metadata": {},
   "outputs": [],
   "source": [
    "tfDoppler = tfDoppler[70:]"
   ]
  },
  {
   "cell_type": "code",
   "execution_count": 71,
   "id": "5ec7df39",
   "metadata": {},
   "outputs": [
    {
     "ename": "ValueError",
     "evalue": "cannot reshape array of size 0 into shape (30,7)",
     "output_type": "error",
     "traceback": [
      "\u001b[0;31m---------------------------------------------------------------------------\u001b[0m",
      "\u001b[0;31mValueError\u001b[0m                                Traceback (most recent call last)",
      "\u001b[0;32m<ipython-input-71-c4a5774c2c1c>\u001b[0m in \u001b[0;36m<module>\u001b[0;34m\u001b[0m\n\u001b[0;32m----> 1\u001b[0;31m \u001b[0mA\u001b[0m \u001b[0;34m=\u001b[0m \u001b[0mtfDoppler\u001b[0m\u001b[0;34m.\u001b[0m\u001b[0mreshape\u001b[0m\u001b[0;34m(\u001b[0m\u001b[0;36m30\u001b[0m\u001b[0;34m,\u001b[0m\u001b[0;36m7\u001b[0m\u001b[0;34m)\u001b[0m\u001b[0;34m.\u001b[0m\u001b[0mT\u001b[0m\u001b[0;34m\u001b[0m\u001b[0;34m\u001b[0m\u001b[0m\n\u001b[0m",
      "\u001b[0;31mValueError\u001b[0m: cannot reshape array of size 0 into shape (30,7)"
     ]
    }
   ],
   "source": [
    "A = tfDoppler.reshape(30,7).T"
   ]
  },
  {
   "cell_type": "code",
   "execution_count": 64,
   "id": "138d5cc7",
   "metadata": {},
   "outputs": [
    {
     "data": {
      "text/plain": [
       "[<matplotlib.lines.Line2D at 0x7f717fce9588>]"
      ]
     },
     "execution_count": 64,
     "metadata": {},
     "output_type": "execute_result"
    },
    {
     "data": {
      "image/png": "[encoded data removed]",
      "text/plain": [
       "<Figure size 432x288 with 1 Axes>"
      ]
     },
     "metadata": {
      "needs_background": "light"
     },
     "output_type": "display_data"
    }
   ],
   "source": [
    "plt.plot(A[1,:])"
   ]
  },
  {
   "cell_type": "code",
   "execution_count": 62,
   "id": "1dcfc653",
   "metadata": {},
   "outputs": [
    {
     "data": {
      "image/png": "[encoded data removed]",
      "text/plain": [
       "<Figure size 432x288 with 1 Axes>"
      ]
     },
     "metadata": {
      "needs_background": "light"
     },
     "output_type": "display_data"
    }
   ],
   "source": [
    "for isat in np.arange(7):\n",
    "    plt.plot(A[isat,:])"
   ]
  },
  {
   "cell_type": "code",
   "execution_count": 44,
   "id": "3f7de124",
   "metadata": {},
   "outputs": [],
   "source": [
    "csat = codesat(8,repeatno=20)"
   ]
  },
  {
   "cell_type": "code",
   "execution_count": 48,
   "id": "b37bb095",
   "metadata": {},
   "outputs": [
    {
     "data": {
      "text/plain": [
       "77974000.0"
      ]
     },
     "execution_count": 48,
     "metadata": {},
     "output_type": "execute_result"
    }
   ],
   "source": [
    "len(r)/10"
   ]
  },
  {
   "cell_type": "code",
   "execution_count": 45,
   "id": "85587edd",
   "metadata": {},
   "outputs": [
    {
     "data": {
      "text/plain": [
       "52000"
      ]
     },
     "execution_count": 45,
     "metadata": {},
     "output_type": "execute_result"
    }
   ],
   "source": [
    "len(csat)"
   ]
  },
  {
   "cell_type": "code",
   "execution_count": 39,
   "id": "87a29dde",
   "metadata": {},
   "outputs": [
    {
     "data": {
      "text/plain": [
       "[-0.0014152794455824758,\n",
       " -0.0008690243538728386,\n",
       " 0.0008054515630273209,\n",
       " 0.0013748597081930417,\n",
       " -0.0006669256669256669,\n",
       " 0.0008729486002213278,\n",
       " 0.0011472534199806932]"
      ]
     },
     "execution_count": 39,
     "metadata": {},
     "output_type": "execute_result"
    }
   ],
   "source": [
    "lfineDoppler"
   ]
  },
  {
   "cell_type": "code",
   "execution_count": 41,
   "id": "1e7cf406",
   "metadata": {},
   "outputs": [
    {
     "data": {
      "text/plain": [
       "-0.0014180264180264181"
      ]
     },
     "execution_count": 41,
     "metadata": {},
     "output_type": "execute_result"
    }
   ],
   "source": [
    "fd[13]"
   ]
  },
  {
   "cell_type": "code",
   "execution_count": null,
   "id": "c05295f3",
   "metadata": {},
   "outputs": [],
   "source": [
    "# Initialisation des paramètres\n",
    "frequency_doppler = initial_doppler\n",
    "code_shift = initial_code_shift\n",
    "\n",
    "# Boucle de suivi\n",
    "for sample in signal:\n",
    "    # Appliquer le décalage du code et la compensation Doppler\n",
    "    synchronized_signal = apply_doppler_and_code_shift(signal, code_shift, frequency_doppler)\n",
    "    \n",
    "    # Calculer les corrélations early, on-time, late\n",
    "    correlation_early = calculate_correlation(synchronized_signal, early_code_samples)\n",
    "    correlation_on_time = calculate_correlation(synchronized_signal, on_time_code_samples)\n",
    "    correlation_late = calculate_correlation(synchronized_signal, late_code_samples)\n",
    "    \n",
    "    # Mettre à jour la fréquence Doppler et le décalage du code\n",
    "    frequency_doppler, code_shift = update_tracking(correlation_early, correlation_on_time, correlation_late, frequency_doppler, code_shift)\n",
    "    \n",
    "    # Utiliser frequency_doppler et code_shift pour ajuster le signal et extraire les données\n"
   ]
  },
  {
   "cell_type": "code",
   "execution_count": 61,
   "id": "0f283d9c",
   "metadata": {},
   "outputs": [],
   "source": [
    "s = np.array([ 1786,  4386,  6986,  9586, 12186, 14786, 17386, 22586, 25186,27786, 32986, 38186, 43386, 48586])"
   ]
  },
  {
   "cell_type": "code",
   "execution_count": 62,
   "id": "477617d1",
   "metadata": {},
   "outputs": [
    {
     "data": {
      "text/plain": [
       "array([2600, 2600, 2600, 2600, 2600, 2600, 5200, 2600, 2600, 5200, 5200,\n",
       "       5200, 5200])"
      ]
     },
     "execution_count": 62,
     "metadata": {},
     "output_type": "execute_result"
    }
   ],
   "source": [
    "s[1:]-s[0:-1]"
   ]
  },
  {
   "cell_type": "code",
   "execution_count": 58,
   "id": "264c20e2",
   "metadata": {},
   "outputs": [
    {
     "data": {
      "text/plain": [
       "[(array([11, 11, 11, 11, 11, 11, 11, 11, 11, 11, 11, 11, 11, 11]),\n",
       "  array([ 1786,  4386,  6986,  9586, 12186, 14786, 17386, 22586, 25186,\n",
       "         27786, 32986, 38186, 43386, 48586])),\n",
       " (array([62, 62, 62]), array([ 2189,  7389, 17789]))]"
      ]
     },
     "execution_count": 58,
     "metadata": {},
     "output_type": "execute_result"
    }
   ],
   "source": [
    "larg[1:3]"
   ]
  },
  {
   "cell_type": "code",
   "execution_count": null,
   "id": "150ab4e6",
   "metadata": {},
   "outputs": [],
   "source": [
    "# Fonction pour synchroniser le signal sur un satellite particulier\n",
    "def synchronize_signal(signal, code, doppler_shift):\n",
    "    # Compenser le décalage du code\n",
    "    synchronized_signal = np.roll(signal, -offset)\n",
    "    # Appliquer la compensation Doppler\n",
    "    # Vous pouvez utiliser une fonction de compensation Doppler appropriée ici\n",
    "    return synchronized_signal\n",
    "\n",
    "# Fonction pour extraire la séquence binaire d'un signal synchronisé\n",
    "def extract_binary_sequence(synchronized_signal, code_length):\n",
    "    # Implémentez votre méthode d'extraction de séquence binaire ici\n",
    "    pass\n",
    "\n",
    "# Paramètres\n",
    "num_satellites = 32\n",
    "code_length = 1023  # Longueur du code C/A\n",
    "doppler_shift = 0   # Décalage Doppler initial (à adapter)\n",
    "\n",
    "# Exemple de signal GPS\n",
    "signal_I = np.random.rand(10000)  # Échantillon I du signal\n",
    "signal_Q = np.random.rand(10000)  # Échantillon Q du signal\n",
    "\n",
    "# Identifier les satellites présents dans le signal\n",
    "detected_satellites = identify_satellites(signal_I + 1j * signal_Q, code_length)\n",
    "\n",
    "# Synchroniser et extraire la séquence binaire pour chaque satellite détecté\n",
    "for satellite_num in detected_satellites:\n",
    "    code = generate_CA_code(satellite_num)\n",
    "    synchronized_signal = synchronize_signal(signal_I + 1j * signal_Q, code, doppler_shift)\n",
    "    binary_sequence = extract_binary_sequence(synchronized_signal, code_length)\n",
    "    print(f\"Satellite {satellite_num}: Binary sequence {binary_sequence}\")\n"
   ]
  },
  {
   "cell_type": "code",
   "execution_count": 7,
   "id": "1203e4ee",
   "metadata": {},
   "outputs": [
    {
     "name": "stdout",
     "output_type": "stream",
     "text": [
      " 2019_12_13_433_MS1\t  GPS-LOR1-1-10-2020    processinggps.py\r\n",
      " 2019_12_13_433_MS2\t  GPSManip\t        __pycache__\r\n",
      " 2019_12_13_GPS_SB1\t  gps.py\t        read_data1.py\r\n",
      " 2019_12_13_GPS_SB2\t  gpssim.bin\t        read_data2.py\r\n",
      " 2019_12_INSA_1.zip\t  ipython_log.py        read_data3.py\r\n",
      " 2019_12_INSA_2.zip\t  LABSTIC-GPS\t        read_data.py\r\n",
      " brdc0180.24n\t\t  logSB1.txt\t        tmp\r\n",
      " DemodulationGPS2.ipynb   logSB2.txt\r\n",
      " DemodulationGPS.ipynb\t 'pièces jointes.zip'\r\n"
     ]
    }
   ],
   "source": [
    "!ls"
   ]
  },
  {
   "cell_type": "markdown",
   "id": "0fe3a957",
   "metadata": {},
   "source": [
    "# Lecture Fichier GPS en bande de bae"
   ]
  },
  {
   "cell_type": "markdown",
   "id": "2577f7c5",
   "metadata": {},
   "source": [
    "$r$ est le signal complex reçu"
   ]
  },
  {
   "cell_type": "code",
   "execution_count": 4,
   "id": "e0586cd0",
   "metadata": {},
   "outputs": [],
   "source": [
    "fs = 2600000     # frequence d'échantillonage\n",
    "fsca = 1.023e6   # fréquence chip 1MHz\n",
    "#t = np.linspace(0,len(r)/fs,len(r))  # base de temps signal"
   ]
  },
  {
   "cell_type": "code",
   "execution_count": 23,
   "id": "b6177bd3",
   "metadata": {},
   "outputs": [
    {
     "data": {
      "text/plain": [
       "260000"
      ]
     },
     "execution_count": 23,
     "metadata": {},
     "output_type": "execute_result"
    }
   ],
   "source": [
    "300*fs-len(r)"
   ]
  },
  {
   "cell_type": "code",
   "execution_count": 14,
   "id": "9b4d3b55",
   "metadata": {},
   "outputs": [
    {
     "data": {
      "text/plain": [
       "[<matplotlib.lines.Line2D at 0x7f488d602780>]"
      ]
     },
     "execution_count": 14,
     "metadata": {},
     "output_type": "execute_result"
    },
    {
     "data": {
      "image/png": "[encoded data removed]",
      "text/plain": [
       "<Figure size 432x288 with 1 Axes>"
      ]
     },
     "metadata": {
      "needs_background": "light"
     },
     "output_type": "display_data"
    }
   ],
   "source": [
    "plt.plot(t[0:100000],re[0:100000])"
   ]
  },
  {
   "cell_type": "code",
   "execution_count": 39,
   "id": "d3cee446",
   "metadata": {
    "scrolled": true
   },
   "outputs": [
    {
     "data": {
      "text/plain": [
       "[<matplotlib.lines.Line2D at 0x7f2576c47d68>]"
      ]
     },
     "execution_count": 39,
     "metadata": {},
     "output_type": "execute_result"
    },
    {
     "data": {
      "image/png": "[encoded data removed]",
      "text/plain": [
       "<Figure size 432x288 with 1 Axes>"
      ]
     },
     "metadata": {
      "needs_background": "light"
     },
     "output_type": "display_data"
    }
   ],
   "source": [
    "plt.plot(im[0:100000])"
   ]
  },
  {
   "cell_type": "code",
   "execution_count": 17,
   "id": "948eb4d7",
   "metadata": {},
   "outputs": [],
   "source": [
    "Nfd = 100\n",
    "fdmax = 5000\n",
    "fs = 2600000"
   ]
  },
  {
   "cell_type": "markdown",
   "id": "c355f4bd",
   "metadata": {},
   "source": [
    "Creation d'une plage d'exploration Doppler"
   ]
  },
  {
   "cell_type": "code",
   "execution_count": 77,
   "id": "6c1c25b6",
   "metadata": {},
   "outputs": [],
   "source": [
    "sat = np.array( PRN(1) ) \n",
    "satind  =  np.floor( np.linspace(0, len(sat)-1, num=int((fs/fsca)* len(sat)) )     ).astype(int)"
   ]
  },
  {
   "cell_type": "code",
   "execution_count": 79,
   "id": "9ca8b3d0",
   "metadata": {},
   "outputs": [],
   "source": [
    "satrep=sat[satind]"
   ]
  },
  {
   "cell_type": "code",
   "execution_count": 83,
   "id": "a8fd92c7",
   "metadata": {},
   "outputs": [
    {
     "data": {
      "text/plain": [
       "[<matplotlib.lines.Line2D at 0x7fd3193d35c0>]"
      ]
     },
     "execution_count": 83,
     "metadata": {},
     "output_type": "execute_result"
    },
    {
     "data": {
      "image/png": "[encoded data removed]",
      "text/plain": [
       "<Figure size 432x288 with 1 Axes>"
      ]
     },
     "metadata": {
      "needs_background": "light"
     },
     "output_type": "display_data"
    }
   ],
   "source": [
    "plt.plot(satrep[0:100])"
   ]
  },
  {
   "cell_type": "code",
   "execution_count": 85,
   "id": "ce9bdd98",
   "metadata": {},
   "outputs": [
    {
     "data": {
      "text/plain": [
       "[<matplotlib.lines.Line2D at 0x7fd31935f898>]"
      ]
     },
     "execution_count": 85,
     "metadata": {},
     "output_type": "execute_result"
    },
    {
     "data": {
      "image/png": "[encoded data removed]",
      "text/plain": [
       "<Figure size 432x288 with 1 Axes>"
      ]
     },
     "metadata": {
      "needs_background": "light"
     },
     "output_type": "display_data"
    }
   ],
   "source": [
    "plt.plot(sat[0:40])"
   ]
  },
  {
   "cell_type": "code",
   "execution_count": 18,
   "id": "e4a12eb6",
   "metadata": {},
   "outputs": [],
   "source": [
    "fd = np.linspace(-1,1,Nfd)* (fdmax/fs)"
   ]
  },
  {
   "cell_type": "code",
   "execution_count": 5,
   "id": "b1d168dd",
   "metadata": {},
   "outputs": [],
   "source": [
    "fd = np.linspace(-3800/fs,-3500/fs,100)"
   ]
  },
  {
   "cell_type": "code",
   "execution_count": 22,
   "id": "4453451a",
   "metadata": {},
   "outputs": [
    {
     "data": {
      "text/plain": [
       "-3585.8585858585857"
      ]
     },
     "execution_count": 22,
     "metadata": {},
     "output_type": "execute_result"
    }
   ],
   "source": [
    "fd[14]*fs"
   ]
  },
  {
   "cell_type": "code",
   "execution_count": 99,
   "id": "037ac532",
   "metadata": {},
   "outputs": [],
   "source": [
    "tu = []\n",
    "for isat in range( 8 ,  9 ):\n",
    "    sat = np.array( PRN(isat) ) # code PRN du satellite\n",
    "    repeatno= 20\n",
    "    satind  =  np.floor( np.linspace(0, len(sat)-1, num=int((fs/fsca)* len(sat)) )     ).astype(int)\n",
    "    satrep  = sat[satind]\n",
    "    csat = np.tile(satrep,repeatno)\n",
    "    if  len(csat)  >  len(r) :\n",
    "        csat = csat[0:len(r)]\n",
    "\n",
    "    rc = r[0:len(csat)]\n",
    "    t = np.arange(0,len(rc) )\n",
    "\n",
    "    rr = rc[None,:]*np.exp(-1j*2*np.pi*t[None,:]*fd[:,None])\n",
    "    YE = np.fft.fft(rr,axis= 1)\n",
    "\n",
    "    CSAT = np.fft.fft(csat)\n",
    "\n",
    "    U = np.fft.ifft(YE* np.conj(CSAT[None,:]),axis= 1)\n",
    "    tu.append(np.max(np.abs(U)))\n",
    "    #print(isat,)\n",
    "    #plt.figure('GPS number = ' + str(isat),figsize=(20,20))\n",
    "    #plt.subplot(211)\n",
    "    #plt.title('GPS number = ' + str(isat))\n",
    "    #plt.imshow(np.abs(U)     ,cmap='jet') #  , vmin =  0 ,  vmax= 30\n",
    "    #plt.axis('auto')\n",
    "    #plt.colorbar()\n",
    "    #plt.show()"
   ]
  },
  {
   "cell_type": "markdown",
   "id": "889e4cad",
   "metadata": {},
   "source": [
    "# Satellite N°8"
   ]
  },
  {
   "cell_type": "code",
   "execution_count": 33,
   "id": "647a5afa",
   "metadata": {},
   "outputs": [],
   "source": [
    "csat = bitsat(8)\n",
    "rc1 = r[0:len(csat)]\n",
    "rc2 = r[len(csat):2*len(csat)]\n",
    "t = np.arange(0,len(rc1) )"
   ]
  },
  {
   "cell_type": "code",
   "execution_count": 34,
   "id": "78680c81",
   "metadata": {},
   "outputs": [],
   "source": [
    "Y1=correlate(rc1,bitsat(8),fd)"
   ]
  },
  {
   "cell_type": "code",
   "execution_count": 35,
   "id": "79fa68ce",
   "metadata": {},
   "outputs": [],
   "source": [
    "Y2=correlate(rc2,bitsat(8),fd)"
   ]
  },
  {
   "cell_type": "code",
   "execution_count": 40,
   "id": "91464382",
   "metadata": {},
   "outputs": [],
   "source": [
    "u1 = np.where(np.abs(Y1)>np.max(np.abs(Y1))-100)"
   ]
  },
  {
   "cell_type": "code",
   "execution_count": 41,
   "id": "8b324d75",
   "metadata": {},
   "outputs": [],
   "source": [
    "u2 = np.where(np.abs(Y2)>np.max(np.abs(Y2))-100)"
   ]
  },
  {
   "cell_type": "code",
   "execution_count": 43,
   "id": "0c77cc18",
   "metadata": {},
   "outputs": [
    {
     "data": {
      "text/plain": [
       "(array([39, 39, 39, 39, 39, 39, 39, 39, 39, 39, 39, 39, 39, 39, 39, 39, 39,\n",
       "        39, 39, 39, 39, 39, 39, 39, 39, 39, 39, 39, 39, 39, 39, 39, 39, 39,\n",
       "        39, 39, 39, 39, 39, 39, 39, 39, 39, 39, 39, 39, 39, 39, 39, 39, 39,\n",
       "        39, 39, 39, 39, 39, 39, 39, 39, 39, 39, 39, 39, 39, 39, 39, 39, 39,\n",
       "        39, 39, 39, 39, 39, 39, 39, 39, 39, 39, 39, 39, 39, 39, 39, 39, 39,\n",
       "        39, 39, 39, 39, 39, 39, 39, 39, 39, 39, 39, 39, 39, 39, 39, 39, 39,\n",
       "        39, 39, 39, 39, 39, 39, 39, 39, 39, 39, 39, 39, 39, 39, 39, 39, 39,\n",
       "        39, 39, 39, 39, 39, 39, 39, 39, 39, 39, 39, 39, 39, 39, 39, 39, 39,\n",
       "        39, 39, 39, 39, 39, 39, 39, 39, 39, 39, 39, 39, 39, 39, 39, 39, 39,\n",
       "        39, 39, 39, 39, 39, 39, 39, 39, 39, 39, 39, 39, 39, 39, 39, 39, 39,\n",
       "        39, 39, 39, 39, 39, 39, 39, 39, 39, 39, 39, 39, 39, 39, 39, 39, 39,\n",
       "        39, 39, 39, 39, 39, 39, 39, 39, 39, 39, 39, 39, 39]),\n",
       " array([  2211,   4811,   7411,  10011,  12611,  15211,  17811,  20411,\n",
       "         23011,  25611,  28211,  30811,  33411,  36011,  38611,  41211,\n",
       "         43811,  46411,  49011,  51611,  54211,  56811,  59411,  62011,\n",
       "         64611,  67211,  69811,  72411,  75011,  77611,  80211,  82811,\n",
       "         85411,  88011,  90611,  93211,  95811,  98411, 101011, 103611,\n",
       "        106211, 108811, 111411, 114011, 116611, 119211, 121811, 124411,\n",
       "        127011, 129611, 132211, 134811, 137411, 140011, 142611, 145211,\n",
       "        147811, 150411, 153011, 155611, 158211, 160811, 163411, 166011,\n",
       "        168611, 171211, 173811, 176411, 179011, 181611, 184211, 186811,\n",
       "        189411, 192011, 194611, 197211, 199811, 202411, 205011, 207611,\n",
       "        210211, 212811, 215411, 218011, 220611, 223211, 225811, 228411,\n",
       "        231011, 233611, 236211, 238811, 241411, 244011, 246611, 249211,\n",
       "        251811, 254411, 257011, 259611, 262211, 264811, 267411, 270011,\n",
       "        272611, 275211, 277811, 280411, 283011, 285611, 288211, 290811,\n",
       "        293411, 296011, 298611, 301211, 303811, 306411, 309011, 311611,\n",
       "        314211, 316811, 319411, 322011, 324611, 327211, 329811, 332411,\n",
       "        335011, 337611, 340211, 342811, 345411, 348011, 350611, 353211,\n",
       "        355811, 358411, 361011, 363611, 366211, 368811, 371411, 374011,\n",
       "        376611, 379211, 381811, 384411, 387011, 389611, 392211, 394811,\n",
       "        397411, 400011, 402611, 405211, 407811, 410411, 413011, 415611,\n",
       "        418211, 420811, 423411, 426011, 428611, 431211, 433811, 436411,\n",
       "        439011, 441611, 444211, 446811, 449411, 452011, 454611, 457211,\n",
       "        459811, 462411, 465011, 467611, 470211, 472811, 475411, 478011,\n",
       "        480611, 483211, 485811, 488411, 491011, 493611, 496211, 498811,\n",
       "        501411, 504011, 506611, 509211, 511811, 514411, 517011, 519611]))"
      ]
     },
     "execution_count": 43,
     "metadata": {},
     "output_type": "execute_result"
    }
   ],
   "source": [
    "u1"
   ]
  },
  {
   "cell_type": "code",
   "execution_count": 92,
   "id": "4d2babd3",
   "metadata": {},
   "outputs": [],
   "source": [
    "a=np.array([1,2,3,4])"
   ]
  },
  {
   "cell_type": "code",
   "execution_count": 45,
   "id": "3abdeaf7",
   "metadata": {},
   "outputs": [],
   "source": [
    "crc1=rc1*np.exp(-1j*2*np.pi*t*fd[39])"
   ]
  },
  {
   "cell_type": "code",
   "execution_count": 48,
   "id": "a67d304a",
   "metadata": {},
   "outputs": [
    {
     "data": {
      "text/plain": [
       "520000"
      ]
     },
     "execution_count": 48,
     "metadata": {},
     "output_type": "execute_result"
    }
   ],
   "source": [
    "len(csat)"
   ]
  },
  {
   "cell_type": "code",
   "execution_count": 49,
   "id": "ce222ad1",
   "metadata": {},
   "outputs": [],
   "source": [
    "crc1=crc1*np.roll(csat,2211)"
   ]
  },
  {
   "cell_type": "code",
   "execution_count": 23,
   "id": "3bfd0e6b",
   "metadata": {},
   "outputs": [
    {
     "data": {
      "text/plain": [
       "(-15011.82439728486+495.3419105566158j)"
      ]
     },
     "execution_count": 23,
     "metadata": {},
     "output_type": "execute_result"
    }
   ],
   "source": [
    "np.sum(crc1[0:2211])"
   ]
  },
  {
   "cell_type": "code",
   "execution_count": 25,
   "id": "759d9760",
   "metadata": {},
   "outputs": [
    {
     "data": {
      "text/plain": [
       "(-16236.48066266818+2512.1426885985743j)"
      ]
     },
     "execution_count": 25,
     "metadata": {},
     "output_type": "execute_result"
    }
   ],
   "source": [
    "np.sum(crc1[2211:4811])"
   ]
  },
  {
   "cell_type": "code",
   "execution_count": 26,
   "id": "767984f9",
   "metadata": {},
   "outputs": [
    {
     "data": {
      "text/plain": [
       "(-14054.077008980814+3507.5383650309873j)"
      ]
     },
     "execution_count": 26,
     "metadata": {},
     "output_type": "execute_result"
    }
   ],
   "source": [
    "np.sum(crc1[7411:10011])"
   ]
  },
  {
   "cell_type": "code",
   "execution_count": 27,
   "id": "262a8915",
   "metadata": {},
   "outputs": [
    {
     "data": {
      "text/plain": [
       "(-14690.093756594077+3198.7929591495617j)"
      ]
     },
     "execution_count": 27,
     "metadata": {},
     "output_type": "execute_result"
    }
   ],
   "source": [
    "np.sum(crc1[10011:12611])"
   ]
  },
  {
   "cell_type": "code",
   "execution_count": 50,
   "id": "7f84eab9",
   "metadata": {},
   "outputs": [],
   "source": [
    "s = np.add.reduceat(crc1, u1[1])"
   ]
  },
  {
   "cell_type": "code",
   "execution_count": 10,
   "id": "3b1b210a",
   "metadata": {},
   "outputs": [
    {
     "ename": "NameError",
     "evalue": "name 's' is not defined",
     "output_type": "error",
     "traceback": [
      "\u001b[0;31m---------------------------------------------------------------------------\u001b[0m",
      "\u001b[0;31mNameError\u001b[0m                                 Traceback (most recent call last)",
      "\u001b[0;32m<ipython-input-10-d5d48928f0a2>\u001b[0m in \u001b[0;36m<module>\u001b[0;34m\u001b[0m\n\u001b[0;32m----> 1\u001b[0;31m \u001b[0mplt\u001b[0m\u001b[0;34m.\u001b[0m\u001b[0mplot\u001b[0m\u001b[0;34m(\u001b[0m\u001b[0mnp\u001b[0m\u001b[0;34m.\u001b[0m\u001b[0mreal\u001b[0m\u001b[0;34m(\u001b[0m\u001b[0ms\u001b[0m\u001b[0;34m)\u001b[0m\u001b[0;34m,\u001b[0m\u001b[0mnp\u001b[0m\u001b[0;34m.\u001b[0m\u001b[0mimag\u001b[0m\u001b[0;34m(\u001b[0m\u001b[0ms\u001b[0m\u001b[0;34m)\u001b[0m\u001b[0;34m)\u001b[0m\u001b[0;34m\u001b[0m\u001b[0;34m\u001b[0m\u001b[0m\n\u001b[0m",
      "\u001b[0;31mNameError\u001b[0m: name 's' is not defined"
     ]
    }
   ],
   "source": [
    "plt.plot(np.real(s),np.imag(s))"
   ]
  },
  {
   "cell_type": "code",
   "execution_count": 82,
   "id": "aabfe808",
   "metadata": {},
   "outputs": [
    {
     "data": {
      "text/plain": [
       "(array([39, 39, 39, 39, 39, 39, 39, 39, 39, 39, 39, 39, 39, 39, 39, 39, 39,\n",
       "        39, 39, 39]),\n",
       " array([ 2211,  4811,  7411, 10011, 12611, 15211, 17811, 20411, 23011,\n",
       "        25611, 28211, 30811, 33411, 36011, 38611, 41211, 43811, 46411,\n",
       "        49011, 51611]))"
      ]
     },
     "execution_count": 82,
     "metadata": {},
     "output_type": "execute_result"
    }
   ],
   "source": [
    "u2"
   ]
  },
  {
   "cell_type": "code",
   "execution_count": 75,
   "id": "b46ab1d1",
   "metadata": {},
   "outputs": [
    {
     "data": {
      "text/plain": [
       "(-0.5, 51999.5, 99.5, -0.5)"
      ]
     },
     "execution_count": 75,
     "metadata": {},
     "output_type": "execute_result"
    },
    {
     "data": {
      "image/png": "[encoded data removed]",
      "text/plain": [
       "<Figure size 432x288 with 1 Axes>"
      ]
     },
     "metadata": {
      "needs_background": "light"
     },
     "output_type": "display_data"
    }
   ],
   "source": [
    "plt.imshow(np.abs(Y2))\n",
    "plt.axis('auto')"
   ]
  },
  {
   "cell_type": "code",
   "execution_count": 55,
   "id": "e9954ece",
   "metadata": {},
   "outputs": [
    {
     "data": {
      "text/plain": [
       "[<matplotlib.lines.Line2D at 0x7f4e08d909e8>]"
      ]
     },
     "execution_count": 55,
     "metadata": {},
     "output_type": "execute_result"
    },
    {
     "data": {
      "image/png": "[encoded data removed]",
      "text/plain": [
       "<Figure size 432x288 with 1 Axes>"
      ]
     },
     "metadata": {
      "needs_background": "light"
     },
     "output_type": "display_data"
    }
   ],
   "source": [
    "plt.plot(np.real(rc),np.imag(rc),'.')"
   ]
  },
  {
   "cell_type": "code",
   "execution_count": 52,
   "id": "096cf6ba",
   "metadata": {},
   "outputs": [
    {
     "data": {
      "text/plain": [
       "-0.00143006993006993"
      ]
     },
     "execution_count": 52,
     "metadata": {},
     "output_type": "execute_result"
    }
   ],
   "source": [
    "fd[27]"
   ]
  },
  {
   "cell_type": "code",
   "execution_count": 44,
   "id": "4e1f0e58",
   "metadata": {},
   "outputs": [
    {
     "data": {
      "text/plain": [
       "[<matplotlib.lines.Line2D at 0x7f4e102a9f60>]"
      ]
     },
     "execution_count": 44,
     "metadata": {},
     "output_type": "execute_result"
    },
    {
     "data": {
      "image/png": "[encoded data removed]",
      "text/plain": [
       "<Figure size 432x288 with 1 Axes>"
      ]
     },
     "metadata": {
      "needs_background": "light"
     },
     "output_type": "display_data"
    }
   ],
   "source": [
    "#plt.imshow(np.abs(Y))\n",
    "plt.plot(np.abs(Y)[:,2211])\n",
    "plt.plot(np.abs(Y)[:,7411])\n",
    "plt.plot(np.abs(Y)[:,51611])"
   ]
  },
  {
   "cell_type": "code",
   "execution_count": 51,
   "id": "2ca4ca7b",
   "metadata": {},
   "outputs": [
    {
     "data": {
      "text/plain": [
       "[<matplotlib.lines.Line2D at 0x7f4e10213ac8>]"
      ]
     },
     "execution_count": 51,
     "metadata": {},
     "output_type": "execute_result"
    },
    {
     "data": {
      "image/png": "[encoded data removed]",
      "text/plain": [
       "<Figure size 432x288 with 1 Axes>"
      ]
     },
     "metadata": {
      "needs_background": "light"
     },
     "output_type": "display_data"
    }
   ],
   "source": [
    "plt.plot(np.abs(Y)[:,17043])"
   ]
  },
  {
   "cell_type": "code",
   "execution_count": 119,
   "id": "f8201d95",
   "metadata": {},
   "outputs": [
    {
     "data": {
      "text/plain": [
       "0.02"
      ]
     },
     "execution_count": 119,
     "metadata": {},
     "output_type": "execute_result"
    }
   ],
   "source": [
    "len(bitsat(8))/fs"
   ]
  },
  {
   "cell_type": "code",
   "execution_count": 111,
   "id": "8d1ed1c3",
   "metadata": {},
   "outputs": [
    {
     "data": {
      "text/plain": [
       "(array([13, 13, 13, 13, 13, 13, 13, 13, 13, 13, 13, 13, 13, 13, 13, 13]),\n",
       " array([ 2211,  4811,  7411, 12611, 15211, 17811, 20411, 23011, 28211,\n",
       "        30811, 33411, 38611, 41211, 43811, 49011, 51611]))"
      ]
     },
     "execution_count": 111,
     "metadata": {},
     "output_type": "execute_result"
    },
    {
     "data": {
      "image/png": "[encoded data removed]",
      "text/plain": [
       "<Figure size 432x288 with 1 Axes>"
      ]
     },
     "metadata": {
      "needs_background": "light"
     },
     "output_type": "display_data"
    }
   ],
   "source": [
    "plt.imshow(np.abs(U),cmap='hot')\n",
    "\n",
    "np.where(np.abs(U)==np.max(np.abs(U)))"
   ]
  },
  {
   "cell_type": "code",
   "execution_count": 112,
   "id": "b47088bc",
   "metadata": {},
   "outputs": [
    {
     "data": {
      "text/plain": [
       "(-275315.30165930296-104638.10511401236j)"
      ]
     },
     "execution_count": 112,
     "metadata": {},
     "output_type": "execute_result"
    }
   ],
   "source": [
    "U[13,2211]"
   ]
  },
  {
   "cell_type": "code",
   "execution_count": 127,
   "id": "98f0896c",
   "metadata": {},
   "outputs": [
    {
     "data": {
      "text/plain": [
       "array([-0.00145688, -0.00141803, -0.00137918])"
      ]
     },
     "execution_count": 127,
     "metadata": {},
     "output_type": "execute_result"
    }
   ],
   "source": [
    "fd[12:15]"
   ]
  },
  {
   "cell_type": "code",
   "execution_count": 126,
   "id": "31002a01",
   "metadata": {},
   "outputs": [
    {
     "data": {
      "text/plain": [
       "[<matplotlib.lines.Line2D at 0x7fce5d8dc978>]"
      ]
     },
     "execution_count": 126,
     "metadata": {},
     "output_type": "execute_result"
    },
    {
     "data": {
      "image/png": "[encoded data removed]",
      "text/plain": [
       "<Figure size 432x288 with 1 Axes>"
      ]
     },
     "metadata": {
      "needs_background": "light"
     },
     "output_type": "display_data"
    },
    {
     "data": {
      "image/png": "[encoded data removed]",
      "text/plain": [
       "<Figure size 432x288 with 1 Axes>"
      ]
     },
     "metadata": {
      "needs_background": "light"
     },
     "output_type": "display_data"
    }
   ],
   "source": [
    "plt.plot(np.imag(U[14]))\n",
    "plt.figure()\n",
    "plt.plot(np.real(U[14]))"
   ]
  },
  {
   "cell_type": "code",
   "execution_count": 64,
   "id": "871a79c8",
   "metadata": {},
   "outputs": [],
   "source": [
    "cA1=1-2*np.random.randint(0,2,1023)\n",
    "cA2=1-2*np.random.randint(0,2,1023)"
   ]
  },
  {
   "cell_type": "code",
   "execution_count": 65,
   "id": "1a8f5804",
   "metadata": {},
   "outputs": [],
   "source": [
    "c1=PRN(1)"
   ]
  },
  {
   "cell_type": "code",
   "execution_count": 66,
   "id": "a9cc5c68",
   "metadata": {},
   "outputs": [],
   "source": [
    "c2=PRN(2)"
   ]
  },
  {
   "cell_type": "code",
   "execution_count": 38,
   "id": "a44332e6",
   "metadata": {},
   "outputs": [],
   "source": [
    "cc1=np.fft.ifft(np.fft.fft(c1)*np.conj(np.fft.fft(c1)))"
   ]
  },
  {
   "cell_type": "code",
   "execution_count": 51,
   "id": "e3e0cea5",
   "metadata": {},
   "outputs": [],
   "source": [
    "def xcorr(c1,c2):\n",
    "    cc = np.fft.ifft(np.fft.fft(c1)*np.conj(np.fft.fft(c2)))\n",
    "    return(np.real(cc))"
   ]
  },
  {
   "cell_type": "code",
   "execution_count": 57,
   "id": "77fffb0f",
   "metadata": {},
   "outputs": [],
   "source": [
    "cc1=xcorr(c1,c1)"
   ]
  },
  {
   "cell_type": "code",
   "execution_count": 54,
   "id": "af395576",
   "metadata": {},
   "outputs": [],
   "source": [
    "ccA=xcorr(cA,cA)"
   ]
  },
  {
   "cell_type": "code",
   "execution_count": 59,
   "id": "2b653cbd",
   "metadata": {},
   "outputs": [
    {
     "data": {
      "text/plain": [
       "[<matplotlib.lines.Line2D at 0x7fd31952b668>]"
      ]
     },
     "execution_count": 59,
     "metadata": {},
     "output_type": "execute_result"
    },
    {
     "data": {
      "image/png": "[encoded data removed]",
      "text/plain": [
       "<Figure size 432x288 with 1 Axes>"
      ]
     },
     "metadata": {
      "needs_background": "light"
     },
     "output_type": "display_data"
    }
   ],
   "source": [
    "plt.plot(ccA,alpha=0.5)\n",
    "plt.plot(cc1,'r')"
   ]
  },
  {
   "cell_type": "code",
   "execution_count": 61,
   "id": "dcaf3a70",
   "metadata": {},
   "outputs": [],
   "source": [
    "cc1[0]=0"
   ]
  },
  {
   "cell_type": "code",
   "execution_count": 63,
   "id": "2e3ba856",
   "metadata": {},
   "outputs": [
    {
     "data": {
      "text/plain": [
       "array([ 0., -1., -1., ..., -1., -1., -1.])"
      ]
     },
     "execution_count": 63,
     "metadata": {},
     "output_type": "execute_result"
    }
   ],
   "source": [
    "cc1"
   ]
  },
  {
   "cell_type": "code",
   "execution_count": 72,
   "id": "4739eb3d",
   "metadata": {},
   "outputs": [],
   "source": [
    "ccA12=xcorr(cA1,cA2)\n",
    "cc12=xcorr(c1,c2)"
   ]
  },
  {
   "cell_type": "code",
   "execution_count": 74,
   "id": "13a675a1",
   "metadata": {},
   "outputs": [
    {
     "data": {
      "text/plain": [
       "[<matplotlib.lines.Line2D at 0x7fd319721dd8>]"
      ]
     },
     "execution_count": 74,
     "metadata": {},
     "output_type": "execute_result"
    },
    {
     "data": {
      "image/png": "[encoded data removed]",
      "text/plain": [
       "<Figure size 432x288 with 1 Axes>"
      ]
     },
     "metadata": {
      "needs_background": "light"
     },
     "output_type": "display_data"
    }
   ],
   "source": [
    "plt.plot(cc12)\n",
    "plt.plot(ccA12,'r')"
   ]
  },
  {
   "cell_type": "code",
   "execution_count": null,
   "id": "39ff4cdc",
   "metadata": {},
   "outputs": [],
   "source": []
  }
 ],
 "metadata": {
  "kernelspec": {
   "display_name": "Python 3",
   "language": "python",
   "name": "python3"
  },
  "language_info": {
   "codemirror_mode": {
    "name": "ipython",
    "version": 3
   },
   "file_extension": ".py",
   "mimetype": "text/x-python",
   "name": "python",
   "nbconvert_exporter": "python",
   "pygments_lexer": "ipython3",
   "version": "3.6.13"
  },
  "toc": {
   "base_numbering": 1,
   "nav_menu": {},
   "number_sections": true,
   "sideBar": true,
   "skip_h1_title": false,
   "title_cell": "Table of Contents",
   "title_sidebar": "Contents",
   "toc_cell": false,
   "toc_position": {},
   "toc_section_display": true,
   "toc_window_display": false
  }
 },
 "nbformat": 4,
 "nbformat_minor": 5
}
